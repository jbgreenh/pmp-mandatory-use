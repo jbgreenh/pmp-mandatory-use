{
 "cells": [
  {
   "cell_type": "markdown",
   "metadata": {},
   "source": [
    "<h1 style=\"text-align: center;\">mandatory use</h1>"
   ]
  },
  {
   "cell_type": "markdown",
   "metadata": {},
   "source": [
    "## import libraries, set constants, define helper functions"
   ]
  },
  {
   "cell_type": "code",
   "execution_count": null,
   "metadata": {},
   "outputs": [],
   "source": [
    "import polars as pl\n",
    "from Levenshtein import ratio\n",
    "from datetime import datetime, timedelta"
   ]
  },
  {
   "attachments": {},
   "cell_type": "markdown",
   "metadata": {},
   "source": [
    "constants"
   ]
  },
  {
   "cell_type": "code",
   "execution_count": null,
   "metadata": {},
   "outputs": [],
   "source": [
    "RATIO = .7              # patient name similarity between rx and search to give search credit\n",
    "PARTIAL_RATIO = .5      # patient name similarity between rx and search to give search credit for partial searches\n",
    "DAYS_BEFORE = 7         # max number of days before an rx was written where searching should receive credit\n",
    "FILTER_VETS = True      # remove veterinarians from the data\n",
    "\n",
    "OVERLAP_RATIO = .8      # patient name similarity between opioid and benzo prescriptions to confirm overlap\n",
    "NAIVE_RATIO = .7        # patient name similarity between 2 opioid rx to confirm patient is not opioid naive\n",
    "DAYS_NAIVE = 60         # how many days without an opioid makes a patient opioid naive\n",
    "MME_THRESHOLD = 90      # mme threshold for single rx"
   ]
  },
  {
   "cell_type": "markdown",
   "metadata": {},
   "source": [
    "helper function"
   ]
  },
  {
   "cell_type": "code",
   "execution_count": null,
   "metadata": {},
   "outputs": [],
   "source": [
    "def add_days(n, d = datetime.today()):\n",
    "  return d + timedelta(n)"
   ]
  },
  {
   "attachments": {},
   "cell_type": "markdown",
   "metadata": {},
   "source": [
    "## read in and prepare data for processing"
   ]
  },
  {
   "cell_type": "code",
   "execution_count": null,
   "metadata": {},
   "outputs": [],
   "source": [
    "users = (\n",
    "    pl.scan_csv('data/ID_data.csv', infer_schema_length=10000)\n",
    "    .rename({\n",
    "        'Associated DEA Number(s)':'dea_number(s)', 'True ID':'true_id', 'User Full Name':'user_full_name', \n",
    "        'User Specialty':'specialty_grouping', 'Specialty Level 1':'specialty_1', 'Specialty Level 2':'specialty_2', 'Specialty Level 3':'specialty_3'\n",
    "    }) \n",
    ")\n",
    "\n",
    "# each user dea gets its own row so a prescriber gets credit for searches on prescriptions with any of their registered deas\n",
    "users_explode = (\n",
    "    users\n",
    "    .with_columns(\n",
    "        pl.col('dea_number(s)').str.to_uppercase().str.strip().str.split(',').alias('dea_number')\n",
    "    )\n",
    "    .explode('dea_number')\n",
    "    .select('true_id', 'dea_number')\n",
    ")"
   ]
  },
  {
   "cell_type": "code",
   "execution_count": null,
   "metadata": {},
   "outputs": [],
   "source": [
    "pattern = r'^[A-Za-z]{2}\\d{7}$' # 2 letters followed by 7 digits\n",
    "dispensations = (\n",
    "    pl.scan_csv('data/dispensations_data.csv', infer_schema_length=10000)\n",
    "    .rename({'Month, Day, Year of Patient Birthdate': 'disp_dob', 'Month, Day, Year of Written At': 'written_date', \n",
    "             'Month, Day, Year of Filled At': 'filled_date', 'Month, Day, Year of Dispensations Created At': 'disp_created_date',\n",
    "             'Prescriber First Name': 'prescriber_first_name', 'Prescriber Last Name': 'prescriber_last_name', \n",
    "             'Patient First Name': 'patient_first_name', 'Patient Last Name': 'patient_last_name',\n",
    "             'Prescriber DEA': 'prescriber_dea', 'Generic Name':'generic_name', 'Prescription Number':'rx_number',\n",
    "             'AHFS Description':'ahfs', 'Daily MME':'mme', 'Days Supply':'days_supply', 'Animal Name':'animal_name'})\n",
    "    .with_columns(\n",
    "        pl.col('disp_dob').str.to_date('%B %d, %Y'),\n",
    "        pl.col('written_date').str.to_date('%B %d, %Y'),\n",
    "        pl.col('filled_date').str.to_date('%B %d, %Y'),\n",
    "        pl.col('disp_created_date').str.to_date('%B %d, %Y'),\n",
    "        pl.col('prescriber_dea').str.to_uppercase().str.strip(),\n",
    "        (pl.col('patient_first_name') + ' ' + pl.col('patient_last_name')).str.to_uppercase().alias('patient_name'),\n",
    "        (pl.col('prescriber_first_name') + ' ' + pl.col('prescriber_last_name')).str.to_uppercase().alias('prescriber_name')\n",
    "    )\n",
    "    .filter(\n",
    "        (pl.col('prescriber_dea').str.contains(pattern))\n",
    "    )\n",
    "    .join(users_explode, how='left', left_on='prescriber_dea', right_on='dea_number')\n",
    "    .collect()\n",
    "    .with_columns(\n",
    "        (pl.col('written_date').dt.offset_by(f'-{DAYS_BEFORE}d')).alias('start_date'),\n",
    "        (pl.col('written_date').dt.offset_by('1d')).alias('end_date')   # to account for bamboo's issues handling of UTC\n",
    "    )\n",
    "    .drop('patient_first_name', 'patient_last_name', 'prescriber_first_name', 'prescriber_last_name')\n",
    ")\n",
    "\n",
    "if FILTER_VETS:\n",
    "    dispensations = (\n",
    "        dispensations\n",
    "        .filter(\n",
    "            (pl.col('animal_name') == 'Unspecified')\n",
    "        )\n",
    "        .drop('animal_name')\n",
    "    )\n",
    "else:\n",
    "    dispensations = dispensations.drop('animal_name')"
   ]
  },
  {
   "cell_type": "code",
   "execution_count": null,
   "metadata": {},
   "outputs": [],
   "source": [
    "#for filtering searches to only the days we could potentially need\n",
    "min_date = add_days(-DAYS_BEFORE, dispensations['written_date'].min())\n",
    "max_date = add_days(1, dispensations['written_date'].max())\n",
    "\n",
    "searches = (\n",
    "    pl.scan_csv('data/searches_data.csv', infer_schema_length=10000)\n",
    "    .rename({'Month, Day, Year of Search Creation Date': 'created_date', 'Month, Day, Year of Searched DOB':\n",
    "            'search_dob', 'Searched First Name': 'first_name', 'Searched Last Name': 'last_name',\n",
    "            'Partial First Name?': 'partial_first', 'Partial Last Name?': 'partial_last', 'True ID': 'true_id'})\n",
    "    .with_columns(\n",
    "        pl.col('search_dob').str.to_date('%B %d, %Y'),\n",
    "        pl.col('created_date').str.to_date('%B %d, %Y'),\n",
    "        (pl.col('first_name') + ' ' + pl.col('last_name')).alias('full_name').str.to_uppercase(),\n",
    "        (pl.col('partial_first') | pl.col('partial_last')).alias('partial')\n",
    "    )\n",
    "    .filter(\n",
    "        pl.col('created_date').is_between(min_date, max_date) &\n",
    "        pl.col('true_id').is_in(dispensations['true_id'])\n",
    "    )\n",
    "    .collect()\n",
    "    .with_columns(\n",
    "        (pl.col('partial').apply(lambda x: PARTIAL_RATIO if x else RATIO)).alias('ratio_check')\n",
    "    )\n",
    "    .drop('first_name', 'last_name', 'partial_first', 'partial_last')\n",
    "    .lazy()\n",
    ")"
   ]
  },
  {
   "attachments": {},
   "cell_type": "markdown",
   "metadata": {},
   "source": [
    "## process dispensations for searches"
   ]
  },
  {
   "cell_type": "code",
   "execution_count": null,
   "metadata": {},
   "outputs": [],
   "source": [
    "dispensations_with_searches = (\n",
    "    dispensations\n",
    "    .lazy()\n",
    "    .join(searches, how='left', on='true_id')\n",
    "    .filter(\n",
    "        (pl.col('created_date').is_between(pl.col('start_date'), pl.col('end_date'))) &\n",
    "        (pl.col('disp_dob') == pl.col('search_dob'))\n",
    "    )\n",
    "    .with_columns(\n",
    "        pl.struct(['full_name', 'patient_name'])\n",
    "        .apply(lambda x: ratio(x['full_name'], x['patient_name'])).alias('ratio')\n",
    "    )\n",
    "    .collect(streaming=True)\n",
    "    .filter(\n",
    "        pl.col('ratio') >= pl.col('ratio_check')\n",
    "    )\n",
    "    .unique(subset=['rx_number','prescriber_dea','written_date'])\n",
    "    .select('rx_number','prescriber_dea','written_date')\n",
    "    .with_columns(\n",
    "        pl.lit(True).alias('search')\n",
    "    )\n",
    ")"
   ]
  },
  {
   "cell_type": "code",
   "execution_count": null,
   "metadata": {},
   "outputs": [],
   "source": [
    "final_dispensations = (\n",
    "    dispensations\n",
    "    .join(dispensations_with_searches, how='left', on=['rx_number','prescriber_dea','written_date'])\n",
    "    .fill_null(False)\n",
    "    .unique(subset=['rx_number','prescriber_dea','written_date'])\n",
    "    .with_columns(\n",
    "        pl.col('true_id').fill_null(pl.col('prescriber_dea')).alias('final_id')\n",
    "    )\n",
    ")\n",
    "\n",
    "pattern_cap = r'^([A-Za-z]{2}\\d{7})$' # 2 letters followed by 7 digits\n",
    "deas = dispensations.select('prescriber_dea', 'prescriber_name').lazy()\n",
    "results = (\n",
    "    final_dispensations\n",
    "    .groupby(['final_id'])\n",
    "    .agg([pl.count(), pl.col('search').sum()])\n",
    "    .with_columns(\n",
    "        ((pl.col('search') / pl.col('count')) * 100).alias('rate'),\n",
    "        (pl.col('final_id').str.parse_int(radix=10, strict=False).cast(pl.Int64)).alias('true_id'),\n",
    "        (pl.col('final_id').str.extract(pattern_cap)).alias('unreg_dea')\n",
    "    )\n",
    "    .rename({'count':'dispensations', 'search':'searches'})\n",
    "    .lazy()\n",
    "    .join(users, how='left', on='true_id')\n",
    "    .join(deas, how='left', left_on='unreg_dea', right_on='prescriber_dea')\n",
    "    .unique('final_id')\n",
    "    .with_columns(\n",
    "        pl.col('user_full_name').fill_null(pl.col('prescriber_name')),\n",
    "        pl.col('dea_number(s)').fill_null(pl.col('unreg_dea')),\n",
    "        pl.col('true_id').is_not_null().alias('registered')\n",
    "    )\n",
    "    .drop('prescriber_name')\n",
    "    .rename({'user_full_name':'prescriber_name'})\n",
    "    .select(\n",
    "        'final_id', 'prescriber_name', 'dea_number(s)', 'specialty_grouping', 'specialty_1', 'specialty_2', 'specialty_3', \n",
    "        'dispensations', 'searches', 'rate', 'registered'\n",
    "    )\n",
    "    .collect()\n",
    ")"
   ]
  },
  {
   "cell_type": "markdown",
   "metadata": {},
   "source": [
    "write progress to csvs"
   ]
  },
  {
   "cell_type": "code",
   "execution_count": null,
   "metadata": {},
   "outputs": [],
   "source": [
    "results.write_csv('results.csv')\n",
    "final_dispensations.write_csv('dispensations_results.csv')"
   ]
  },
  {
   "cell_type": "markdown",
   "metadata": {},
   "source": [
    "## overlap, over MME threshold, opioid naive"
   ]
  },
  {
   "cell_type": "markdown",
   "metadata": {},
   "source": [
    "### overlap"
   ]
  },
  {
   "cell_type": "code",
   "execution_count": null,
   "metadata": {},
   "outputs": [],
   "source": [
    "opi_dispensations = (\n",
    "    final_dispensations\n",
    "    .lazy()\n",
    "    .filter(pl.col('ahfs').str.contains('OPIATE'))\n",
    "    .with_columns(\n",
    "    (pl.col('filled_date') + pl.duration(days='days_supply')).alias('opi_end_date'),\n",
    "    (pl.col('disp_created_date') + pl.duration(days=1)).alias('opi_start_date')\n",
    "    )\n",
    "    .rename({\n",
    "        'written_date':'opi_written_date', 'filled_date':'opi_filled_date', \n",
    "        'patient_name':'opi_patient_name', 'disp_created_date':'opi_disp_created_date'\n",
    "    })\n",
    ")\n",
    "\n",
    "opi_count = (\n",
    "    opi_dispensations\n",
    "    .collect()\n",
    "    .groupby('final_id')\n",
    "    .count()\n",
    "    .rename({'count':'opi_rx'})\n",
    ")\n",
    "\n",
    "benzo_dispensations = (\n",
    "    final_dispensations\n",
    "    .lazy()\n",
    "    .filter(pl.col('ahfs').str.contains('BENZO'))\n",
    "    .with_columns(\n",
    "        (pl.col('filled_date') + pl.duration(days='days_supply')).alias('benzo_end_date'),\n",
    "        (pl.col('disp_created_date') + pl.duration(days=1)).alias('benzo_start_date')\n",
    "    )\n",
    "    .rename({\n",
    "        'written_date':'benzo_written_date', 'filled_date':'benzo_filled_date', \n",
    "        'patient_name':'benzo_patient_name', 'disp_created_date':'benzo_disp_created_date'\n",
    "    })\n",
    ")\n",
    "\n",
    "benzo_count = (\n",
    "    benzo_dispensations\n",
    "    .collect()\n",
    "    .groupby('final_id')\n",
    "    .count()\n",
    "    .rename({'count':'benzo_rx'})\n",
    ")\n",
    "\n",
    "# add counts of opi and benzo disps\n",
    "results = (\n",
    "    results\n",
    "    .join(opi_count, how='left', on='final_id')\n",
    "    .with_columns(\n",
    "        pl.col('opi_rx').fill_null(0)\n",
    "    )\n",
    "    .join(benzo_count, how='left', on='final_id')\n",
    "    .with_columns(\n",
    "        pl.col('benzo_rx').fill_null(0)\n",
    "    )\n",
    ")"
   ]
  },
  {
   "cell_type": "code",
   "execution_count": null,
   "metadata": {},
   "outputs": [],
   "source": [
    "overlap_dispensations = (\n",
    "    benzo_dispensations\n",
    "    .join(opi_dispensations, how='left', on='disp_dob')\n",
    "    .filter(\n",
    "        # i think we'll end up wanting to only count second rx\n",
    "        # but i'll have to talk to the pmp director and compliance manager for their opinions\n",
    "        # we also have a 1 day lag, so we may want to exclude same day overlaps (even for same prescriber?)\n",
    "        # maybe something like written date between created+1 and end\n",
    "        ((pl.col('opi_written_date').is_between(pl.col('benzo_filled_date'), pl.col('benzo_end_date'))) |\n",
    "        (pl.col('benzo_written_date').is_between(pl.col('opi_filled_date'), pl.col('opi_end_date'))))\n",
    "    )\n",
    "    .with_columns(\n",
    "        pl.struct(['opi_patient_name', 'benzo_patient_name'])\n",
    "        .apply(lambda x: ratio(x['opi_patient_name'], x['benzo_patient_name'])).alias('ratio')\n",
    "    )\n",
    "    .filter(\n",
    "        pl.col('ratio') >= OVERLAP_RATIO\n",
    "    )\n",
    "    .collect(streaming=True)\n",
    ")\n",
    "\n",
    "benzo_dispensations_overlap = (\n",
    "    overlap_dispensations\n",
    "    .select('final_id')\n",
    "    .groupby('final_id')\n",
    "    .count()\n",
    ")\n",
    "\n",
    "opi_dispensations_overlap = (\n",
    "    overlap_dispensations\n",
    "    .select('final_id_right')\n",
    "    .rename({'final_id_right':'final_id'})\n",
    "    .groupby('final_id')\n",
    "    .count()\n",
    ")\n",
    "\n",
    "all_overlaps = (\n",
    "    pl.concat([benzo_dispensations_overlap, opi_dispensations_overlap])\n",
    "    .groupby('final_id')\n",
    "    .sum()\n",
    "    .rename({'count':'overlapping_rx'})  \n",
    ")\n",
    "\n",
    "overlap_dispensations.write_csv('overlap_both.csv') # for testing\n",
    "\n",
    "# add overlapping rx count to results\n",
    "results = (\n",
    "    results\n",
    "    .join(all_overlaps, how='left', on='final_id')\n",
    "    .with_columns(\n",
    "        pl.col('overlapping_rx').fill_null(0)\n",
    "    )\n",
    ")"
   ]
  },
  {
   "cell_type": "markdown",
   "metadata": {},
   "source": [
    "### over MME threshold"
   ]
  },
  {
   "cell_type": "code",
   "execution_count": null,
   "metadata": {},
   "outputs": [],
   "source": [
    "over_mme = (\n",
    "    final_dispensations\n",
    "    .select('final_id', 'mme')\n",
    "    .filter(\n",
    "        pl.col('mme') >= MME_THRESHOLD\n",
    "    )\n",
    "    .groupby('final_id')\n",
    "    .count()\n",
    "    .rename({'count':'rx_over_mme_threshold'})\n",
    ")\n",
    "\n",
    "# add count of rx over the mme threshold to the results\n",
    "results = (\n",
    "    results\n",
    "    .join(over_mme, how='left', on='final_id')\n",
    "    .with_columns(\n",
    "        pl.col('rx_over_mme_threshold').fill_null(0)\n",
    "    )\n",
    ")"
   ]
  },
  {
   "cell_type": "markdown",
   "metadata": {},
   "source": [
    "### opioid naive"
   ]
  },
  {
   "cell_type": "code",
   "execution_count": null,
   "metadata": {},
   "outputs": [],
   "source": [
    "naive = (\n",
    "    pl.scan_csv('data/naive_data.csv')\n",
    "    .rename({'Month, Day, Year of Patient Birthdate': 'naive_dob', 'Month, Day, Year of Filled At': 'naive_filled_date',\n",
    "            'Patient First Name': 'patient_first_name', 'Patient Last Name': 'patient_last_name', 'Days Supply':'naive_days_supply'})\n",
    "    .with_columns(\n",
    "        pl.col('naive_dob').str.to_date('%B %d, %Y'),\n",
    "        pl.col('naive_filled_date').str.to_date('%B %d, %Y'),\n",
    "        (pl.col('patient_first_name') + ' ' + pl.col('patient_last_name')).str.to_uppercase().alias('naive_patient_name')\n",
    "    )\n",
    "    .with_columns(\n",
    "        (pl.col('naive_filled_date') + pl.duration(days='naive_days_supply') + pl.duration(days=DAYS_NAIVE)).alias('naive_end_date')\n",
    "    )\n",
    "    .drop('patient_first_name', 'patient_last_name')\n",
    ")\n",
    "\n",
    "naive_disps = (\n",
    "    final_dispensations\n",
    "    .lazy()\n",
    "    .join(naive, how='left', left_on='disp_dob', right_on='naive_dob')\n",
    "    .filter(\n",
    "        pl.col('written_date').is_between('naive_filled_date', 'naive_end_date') &\n",
    "        pl.col('ahfs').str.contains('OPIATE')\n",
    "    )\n",
    "    .with_columns(\n",
    "        pl.struct(['patient_name', 'naive_patient_name'])\n",
    "        .apply(lambda x: ratio(x['patient_name'], x['naive_patient_name'])).alias('ratio')\n",
    "    )\n",
    "    .collect(streaming=True)\n",
    "    .filter(\n",
    "        pl.col('ratio') >= NAIVE_RATIO\n",
    "    )\n",
    "    .with_columns(\n",
    "        pl.lit(False).alias('opi_naive')\n",
    "    )\n",
    "    .unique(subset=['final_id', 'rx_number'])\n",
    ")\n",
    "\n",
    "naive_disps = (\n",
    "    final_dispensations\n",
    "    .join(naive_disps, how='left', on=['final_id', 'rx_number'])\n",
    "    .select('final_id', 'ahfs', 'opi_naive')\n",
    "    .with_columns(\n",
    "        pl.col('opi_naive').fill_null(True),\n",
    "        ((pl.col('ahfs').str.contains('OPIATE')) & pl.col('opi_naive')).fill_null(True).alias('opi_to_opi_naive')\n",
    "    )\n",
    "    .select('final_id', 'opi_to_opi_naive')\n",
    "    .filter(\n",
    "        pl.col('opi_to_opi_naive')\n",
    "    )\n",
    "    .groupby('final_id').count()\n",
    "    .rename({'count':'opi_to_opi_naive'})\n",
    ")\n",
    "\n",
    "# add number of opioid dispensations to opioid naive patients to results\n",
    "results = (\n",
    "    results\n",
    "    .join(naive_disps, how='left', on='final_id')\n",
    "    .with_columns(\n",
    "        pl.col('opi_to_opi_naive').fill_null(0)\n",
    "    )\n",
    "    .sort(['searches', 'dispensations'], descending=[False, True])\n",
    ")"
   ]
  },
  {
   "cell_type": "markdown",
   "metadata": {},
   "source": [
    "## results"
   ]
  },
  {
   "cell_type": "code",
   "execution_count": null,
   "metadata": {},
   "outputs": [],
   "source": [
    "results.write_csv('results_full.csv')"
   ]
  },
  {
   "cell_type": "code",
   "execution_count": null,
   "metadata": {},
   "outputs": [],
   "source": [
    "stats = (\n",
    "    results\n",
    "    .drop('rate')\n",
    "    .sum()\n",
    "    .with_columns(\n",
    "        ((pl.col('searches') / pl.col('dispensations')) * 100).round(2).alias('rate')\n",
    "    )\n",
    "    .select('dispensations', 'searches', 'rate')\n",
    ")\n",
    "\n",
    "stats"
   ]
  }
 ],
 "metadata": {
  "kernelspec": {
   "display_name": "az",
   "language": "python",
   "name": "python3"
  },
  "language_info": {
   "codemirror_mode": {
    "name": "ipython",
    "version": 3
   },
   "file_extension": ".py",
   "mimetype": "text/x-python",
   "name": "python",
   "nbconvert_exporter": "python",
   "pygments_lexer": "ipython3",
   "version": "3.11.4"
  }
 },
 "nbformat": 4,
 "nbformat_minor": 2
}
